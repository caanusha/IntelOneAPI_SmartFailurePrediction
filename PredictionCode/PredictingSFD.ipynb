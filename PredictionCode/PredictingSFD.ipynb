import serial
import threading
import time
import matplotlib.pyplot as plt
from matplotlib.animation import FuncAnimation
from tkinter import *
import tkinter as tk
import datetime
import csv
import pandas as pd
import numpy as np
import keras
#Intel(R) Extension for Scikit-learn dynamically patches scikit-learn estimators to use oneDAL as the underlying solver
from sklearnex import patch_sklearn
patch_sklearn()

from sklearn.preprocessing import MinMaxScaler
from sklearn.model_selection import train_test_split
import matplotlib
matplotlib.use("tkAgg")

# Define serial port and baudrate for the Arduino board
serial_port = 'COM3'  # Replace with the actual serial port of your Arduino board
baudrate = 9600


# Create a serial object for communicating with the Arduino board
ser = serial.Serial(serial_port, baudrate)

ser.flushInput()

# Initialize variables for data collection
sound_var = []
vibration_var = []
temp_var = []
humid_var = []
time_data = []
i=0
is_collecting_data = False


# Define function to read data from the Arduino board
def read_data():
    global sound_var, vibration_var, temp_var, humid_var, time_data, is_collecting_data, i 
        
    fields = ['Time','Sound','Vibration','Temperature','Humidity']
    f = open("real_data.csv", "a+")
    writer = csv.writer(f, delimiter=',')
    writer.writerow(fields)
        
    while is_collecting_data:
        # Read data from the serial port
        s = ser.readline().decode()
        
        # Convert data to float and append to the data list
        try:
            rows = [float(x) for x in s.split(',')]
            print(rows)
            time = datetime.datetime.now().strftime('%Y-%m-%d %H:%M:%S')
            rows.insert(0, time)
            print(rows)
            writer.writerow(rows)
            i=i+1
            time_data.append(i)            
            sound_var.append(rows[1])
            vibration_var.append(rows[2])
            temp_var.append(rows[3])
            humid_var.append(rows[4])
            
        except ValueError:
            pass

# Define function to start data collection
def start_collection():
    global is_collecting_data
    is_collecting_data = True
    threading.Thread(target=read_data).start()

# Define function to stop data collection
def stop_collection():
    global is_collecting_data
    is_collecting_data = False

# Define function to update the plot
def update_plot(frame):
    global sound_var, vibration_var, temp_var, humid_var, time_data
    plt.clf()
    plt.subplot(2, 2, 1)
    if len(sound_var) > 20:
        plt.plot(time_data[-20:], sound_var[-20:])
    else:
        plt.plot(time_data, sound_var)        
    plt.xlabel('Time (s)')
    plt.ylabel('Sound')
    
    plt.subplot(2, 2, 2)
    if len(vibration_var) > 20:
        plt.plot(time_data[-20:], vibration_var[-20:])
    else:
        plt.plot(time_data, vibration_var)       
    plt.xlabel('Time (s)')
    plt.ylabel('Vibration')
        
    plt.subplot(2, 2, 3)
    if len(temp_var) > 20:
        plt.plot(time_data[-20:], temp_var[-20:])
    else:
        plt.plot(time_data, temp_var)       
    plt.xlabel('Time (s)')
    plt.ylabel('Temperature')
        
    plt.subplot(2, 2, 4)
    if len(humid_var) > 20:
        plt.plot(time_data[-20:], humid_var[-20:])
    else:
        plt.plot(time_data, humid_var)        
    plt.xlabel('Time (s)')
    plt.ylabel('Humidity')


# Define function to start data collection
def show_result():
    global sound_var, vibration_var, temp_var, humid_var, textbox
    data = pd.read_csv('TrainingData.csv')
    X = data.drop(['Time','output'], axis=1)
    y = data['output']
    X_train, X_test, y_train, y_test = train_test_split(X, y, test_size=0.2)
    
    scaler = MinMaxScaler()
    X = scaler.fit_transform(X)
    
    model = keras.Sequential([
    keras.layers.Dense(16, input_dim=X.shape[1], activation='relu'),
    keras.layers.Dense(8, activation='relu'),
    keras.layers.Dense(1, activation='sigmoid')])
    model.compile(loss='binary_crossentropy', optimizer='adam', metrics=['accuracy'])
    
    # Train the model
    model.fit(X_train, y_train, epochs=10, batch_size=32, validation_data=(X_test, y_test))
    
    # Evaluate the model
    score = model.evaluate(X_test, y_test, batch_size=32)
    print("Test loss:", score[0])
    print("Test accuracy:", score[1])
    
    new_value = [np.mean(sound_var),np.mean(vibration_var),np.mean(temp_var),np.mean(humid_var)] # Example new value
    prediction = model.predict([new_value])
    print(prediction)
     
    textbox.delete(0,END)
    if prediction > 0.5:
        text = "Good"
    else:
        text = "Maintenance needed"
    # set the text for the textbox
    textbox.insert(0, text)
    
# Define function to create the GUI
def create_gui():
    global root, textbox
    # Create the main window
    root = Tk()
    root.geometry("600x400")
    root.title('Failure Prediction using sound, vibration and temperature')

    # Create the start button
    start_button = Button(root, text='Start Monitoring', command=start_collection)
    start_button.pack()

    # Create the stop button
    stop_button = Button(root, text='Stop Monitoring', command=stop_collection)
    stop_button.pack()    
    
    # Create the plot
    fig = plt.figure()
    ani = FuncAnimation(fig, update_plot, interval=1000)
    
    # Create the result button
    result_button = Button(root, text='Check Engine Status', command=show_result)
    result_button.pack()
       
    # create the Entry widget and set its state to readonly
    textbox = tk.Entry(root)
    textbox.pack()

    # Start the GUI main loop
    root.mainloop()

if __name__ == '__main__':
    create_gui()

# Close the serial connection
ser.close()
